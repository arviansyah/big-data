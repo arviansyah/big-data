{
 "cells": [
  {
   "cell_type": "code",
   "execution_count": 1,
   "metadata": {
    "collapsed": false
   },
   "outputs": [
    {
     "name": "stdout",
     "output_type": "stream",
     "text": [
      "<pyspark.context.SparkContext object at 0x0000000004AB6C88>\n"
     ]
    }
   ],
   "source": [
    "import os\n",
    "import sys\n",
    "\n",
    "# 1. Lokasi di mana Spark diinstal\n",
    "spark_path = \"E:\\spark\"\n",
    "\n",
    "# 2. Menentukan environment variable\n",
    "os.environ['SPARK_HOME'] = spark_path\n",
    "\n",
    "\n",
    "# 3. Download winutils dari https://github.com/steveloughran/winutils/blob/master/hadoop-2.6.0/bin/winutils.exe?raw=true\n",
    "#   dan letakkan di dalam folder E:\\spark\\bin\\\n",
    "#   Lokasi winutils.exe\n",
    "os.environ['HADOOP_HOME'] = spark_path\n",
    "\n",
    "# 4. Lokasi Python yang dijalankan --> punya Anaconda\n",
    "#    Apabila Python yang diinstall hanya Anaconda, maka tidak perlu menjalankan baris ini.\n",
    "os.environ['PYSPARK_PYTHON'] = sys.executable\n",
    "\n",
    "# 5. Konfigurasi path library PySpark\n",
    "sys.path.append(spark_path + \"/bin\")\n",
    "sys.path.append(spark_path + \"/python\")\n",
    "sys.path.append(spark_path + \"/python/pyspark/\")\n",
    "sys.path.append(spark_path + \"/python/lib\")\n",
    "sys.path.append(spark_path + \"/python/lib/pyspark.zip\")\n",
    "sys.path.append(spark_path + \"/python/lib/py4j-0.10.4-src.zip\")\n",
    "\n",
    "from pyspark import SparkContext\n",
    "from pyspark import SparkConf\n",
    "\n",
    "sc = SparkContext(\"local\", \"test\")\n",
    "\n",
    "print sc"
   ]
  },
  {
   "cell_type": "code",
   "execution_count": 2,
   "metadata": {
    "collapsed": true
   },
   "outputs": [],
   "source": [
    "from pyspark.mllib.fpm import FPGrowth"
   ]
  },
  {
   "cell_type": "code",
   "execution_count": 3,
   "metadata": {
    "collapsed": true
   },
   "outputs": [],
   "source": [
    "makan_malam=sc.textFile(\"C:\\Users\\AXE\\Downloads\\makan_malam.csv\")"
   ]
  },
  {
   "cell_type": "code",
   "execution_count": 4,
   "metadata": {
    "collapsed": true
   },
   "outputs": [],
   "source": [
    "makan_malamNoHeader= makan_malam.filter(lambda x:\"makanan1\" not in x)"
   ]
  },
  {
   "cell_type": "code",
   "execution_count": 5,
   "metadata": {
    "collapsed": false
   },
   "outputs": [
    {
     "name": "stdout",
     "output_type": "stream",
     "text": [
      "PythonRDD[2] at RDD at PythonRDD.scala:48\n"
     ]
    }
   ],
   "source": [
    "print makan_malamNoHeader"
   ]
  },
  {
   "cell_type": "code",
   "execution_count": 6,
   "metadata": {
    "collapsed": true
   },
   "outputs": [],
   "source": [
    "makan_malamNoHeader= makan_malam.filter(lambda x:\"Makanan1\" not in x)"
   ]
  },
  {
   "cell_type": "code",
   "execution_count": 7,
   "metadata": {
    "collapsed": false
   },
   "outputs": [
    {
     "name": "stdout",
     "output_type": "stream",
     "text": [
      "PythonRDD[3] at RDD at PythonRDD.scala:48\n"
     ]
    }
   ],
   "source": [
    "print makan_malamNoHeader"
   ]
  },
  {
   "cell_type": "code",
   "execution_count": 8,
   "metadata": {
    "collapsed": false
   },
   "outputs": [
    {
     "data": {
      "text/plain": [
       "14"
      ]
     },
     "execution_count": 8,
     "metadata": {},
     "output_type": "execute_result"
    }
   ],
   "source": [
    "makan_malamNoHeader.count()"
   ]
  },
  {
   "cell_type": "code",
   "execution_count": 9,
   "metadata": {
    "collapsed": true
   },
   "outputs": [],
   "source": [
    "makan_malamPisah=makan_malamNoHeader.map(lambda x:x.split(\",\"))"
   ]
  },
  {
   "cell_type": "code",
   "execution_count": 10,
   "metadata": {
    "collapsed": false
   },
   "outputs": [
    {
     "name": "stdout",
     "output_type": "stream",
     "text": [
      "FreqItemset(items=[u'\"esteh\"'], freq=11)\n",
      "FreqItemset(items=[u'\"nasi\"'], freq=8)\n",
      "FreqItemset(items=[u'\"nasi\"', u'\"esteh\"'], freq=6)\n",
      "FreqItemset(items=[u'\"telor\"'], freq=6)\n",
      "FreqItemset(items=[u'\"telor\"', u'\"nasi\"'], freq=3)\n",
      "FreqItemset(items=[u'\"telor\"', u'\"esteh\"'], freq=5)\n",
      "FreqItemset(items=[u'\"tempe\"'], freq=6)\n",
      "FreqItemset(items=[u'\"tempe\"', u'\"telor\"'], freq=3)\n",
      "FreqItemset(items=[u'\"tempe\"', u'\"telor\"', u'\"esteh\"'], freq=3)\n",
      "FreqItemset(items=[u'\"tempe\"', u'\"nasi\"'], freq=4)\n",
      "FreqItemset(items=[u'\"tempe\"', u'\"nasi\"', u'\"esteh\"'], freq=3)\n",
      "FreqItemset(items=[u'\"tempe\"', u'\"esteh\"'], freq=5)\n",
      "FreqItemset(items=[u'\"ayam\"'], freq=4)\n",
      "FreqItemset(items=[u'\"ayam\"', u'\"nasi\"'], freq=3)\n",
      "FreqItemset(items=[u'\"ayam\"', u'\"tempe\"'], freq=3)\n",
      "FreqItemset(items=[u'\"ayam\"', u'\"esteh\"'], freq=3)\n",
      "FreqItemset(items=[u'-'], freq=3)\n",
      "FreqItemset(items=[u'\"jus\"'], freq=3)\n",
      "FreqItemset(items=[u'\"nasi \"'], freq=3)\n",
      "FreqItemset(items=[u'\"nasi \"', u'\"esteh\"'], freq=3)\n"
     ]
    }
   ],
   "source": [
    "model = FPGrowth.train(makan_malamPisah, minSupport=0.2, numPartitions=10)\n",
    "result = model.freqItemsets().collect()\n",
    "for fi in result:\n",
    "    print(fi)"
   ]
  },
  {
   "cell_type": "code",
   "execution_count": null,
   "metadata": {
    "collapsed": true
   },
   "outputs": [],
   "source": []
  }
 ],
 "metadata": {
  "kernelspec": {
   "display_name": "Python 2",
   "language": "python",
   "name": "python2"
  },
  "language_info": {
   "codemirror_mode": {
    "name": "ipython",
    "version": 2
   },
   "file_extension": ".py",
   "mimetype": "text/x-python",
   "name": "python",
   "nbconvert_exporter": "python",
   "pygments_lexer": "ipython2",
   "version": "2.7.13"
  }
 },
 "nbformat": 4,
 "nbformat_minor": 2
}
